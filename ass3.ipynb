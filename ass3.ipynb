{
 "cells": [
  {
   "cell_type": "code",
   "execution_count": 1,
   "metadata": {},
   "outputs": [],
   "source": [
    "from gensim.test.utils import datapath, get_tmpfile\n",
    "from gensim.models import KeyedVectors\n",
    "from gensim.scripts.glove2word2vec import glove2word2vec\n",
    "\n",
    "glove_file = datapath('/home/nikhil/Desktop/sem8/IP/main/data/glove/glove.6B.300d.txt')\n",
    "tmp_file = get_tmpfile(\"word2vec_300.txt\")\n",
    "glove2word2vec(glove_file, tmp_file)\n",
    "model = KeyedVectors.load_word2vec_format(tmp_file)"
   ]
  },
  {
   "cell_type": "code",
   "execution_count": 63,
   "metadata": {},
   "outputs": [],
   "source": [
    "import numpy as np\n",
    "def checkin(a,b):\n",
    "    for i in range(len(b)):\n",
    "        if b[i]==a:\n",
    "            return 1\n",
    "    return 0\n",
    "\n",
    "def checkchild(b,word):\n",
    "    for i in range(len(b)):\n",
    "        if b[i]==word:\n",
    "            return 1\n",
    "    return 0\n",
    "\n",
    "def checkra(s,shead,b,bhead):\n",
    "    if (len(s))==1:\n",
    "        return 0\n",
    "    else:\n",
    "        if bhead[0]==s[-1]:\n",
    "            if checkchild(shead,b[0])==0:\n",
    "                return 1\n",
    "    return 0\n",
    "\n",
    "def checkla(s,shead,b,bhead):\n",
    "    if (len(s))==1:\n",
    "        return 0\n",
    "    #elif shead[-1]==:\n",
    "    #    return 0\n",
    "    else:\n",
    "        if shead[-1]==b[0]:\n",
    "            if checkchild(bhead,s[-1])==0:\n",
    "                return 1\n",
    "    return 0"
   ]
  },
  {
   "cell_type": "code",
   "execution_count": 64,
   "metadata": {},
   "outputs": [],
   "source": [
    "#stack,buff,staPOS,buffPOS,staDEP,buffDEP,dictPOS,dictDEP\n",
    "def feature(s,b,sPOS,bPOS,sDEP,bDEP,dictPOS,dictDEP):\n",
    "    x1=np.array([[0]*300]*1, np.dtype(float))\n",
    "    try:\n",
    "        for item in s:\n",
    "            x1=x1+model[item]\n",
    "    except:\n",
    "        pass\n",
    "    x2=np.array([[0]*300]*1, np.dtype(float))\n",
    "    try:\n",
    "        for item in b:\n",
    "            x2=x2+model[item]\n",
    "    except:\n",
    "        pass\n",
    "    x3=np.array([[0]*len(dictPOS)]*1, np.dtype(float))\n",
    "    for item in sPOS:\n",
    "        x3[0][dictPOS[item]]=1\n",
    "    \n",
    "    x4=np.array([[0]*len(dictPOS)]*1, np.dtype(float))\n",
    "    for item in bPOS:\n",
    "        x4[0][dictPOS[item]]=1\n",
    "        \n",
    "    x5=np.array([[0]*len(dictDEP)]*1, np.dtype(float))\n",
    "    for item in sDEP:\n",
    "        x5[0][dictDEP[item]]=1\n",
    "        \n",
    "    x6=np.array([[0]*len(dictDEP)]*1, np.dtype(float))\n",
    "    for item in bDEP:\n",
    "        x6[0][dictDEP[item]]=1\n",
    "        \n",
    "    x=np.concatenate((x1,x2,x3,x4,x5,x6),axis=1)\n",
    "    return x    \n",
    "    \n",
    "def op_ra(s,sh,b,bh,bp,sp,bd,sd):\n",
    "    s.pop()\n",
    "    sh.pop()\n",
    "    sp.pop()\n",
    "    sd.pop()\n",
    "    return [s,sh,b,bh,bp,sp,bd,sd]\n",
    "def op_la(s,sh,b,bh,bp,sp,bd,sd):\n",
    "    b[0]=s.pop()\n",
    "    bp[0]=sp.pop()\n",
    "    bd[0]=sd.pop()\n",
    "    bh[0]=sh.pop()\n",
    "    return [s,sh,b,bh,bp,sp,bd,sd]\n",
    "def op_shift(s,sh,b,bh,bp,sp,bd,sd):\n",
    "    s.append(b[0])\n",
    "    sh.append(bh[0])\n",
    "    sp.append(bp[0])\n",
    "    sd.append(bd[0])\n",
    "    del(b[0])\n",
    "    del(bh[0])\n",
    "    del(bp[0])\n",
    "    del(bd[0])\n",
    "    return [s,sh,b,bh,bp,sp,bd,sd]"
   ]
  },
  {
   "cell_type": "code",
   "execution_count": 65,
   "metadata": {},
   "outputs": [],
   "source": [
    "train=open('train.conllu','r').read();\n",
    "train = train.split('\\n')\n",
    "dictPOS={}\n",
    "dictDEP={}\n",
    "j=0\n",
    "for i in range(60000):\n",
    "    try:\n",
    "        if train[i][0] != '#':\n",
    "            train[i]=train[i].split('\\t')\n",
    "            if(train[i][6]!='_'):\n",
    "                if train[i][3] in dictPOS:\n",
    "                    dictPOS[train[i][3]]=dictPOS[train[i][3]]+1\n",
    "                else:\n",
    "                    dictPOS[train[i][3]]=1\n",
    "                if train[i][7] in dictDEP:\n",
    "                    dictDEP[train[i][7]]=dictDEP[train[i][7]]+1\n",
    "                else:\n",
    "                    dictDEP[train[i][7]]=1\n",
    "                    \n",
    "    except:\n",
    "        pass\n",
    "i=0\n",
    "for items in dictPOS:\n",
    "    dictPOS[items]=i;\n",
    "    i=i+1\n",
    "i=0\n",
    "for items in dictDEP:\n",
    "    dictDEP[items]=i\n",
    "    i=i+1"
   ]
  },
  {
   "cell_type": "code",
   "execution_count": 66,
   "metadata": {},
   "outputs": [],
   "source": [
    "train=open('train.conllu','r').read();\n",
    "train = train.split('\\n')"
   ]
  },
  {
   "cell_type": "code",
   "execution_count": 67,
   "metadata": {},
   "outputs": [],
   "source": [
    "t=[]\n",
    "l=[]\n",
    "t.append([])\n",
    "l.append([])\n",
    "pos=[]\n",
    "dep=[]\n",
    "pos.append([])\n",
    "dep.append([])\n",
    "j=0;\n",
    "for i in range(60000):\n",
    "    try:\n",
    "       \n",
    "        if train[i][0] != '#':\n",
    "            train[i]=train[i].split('\\t')\n",
    "            if(train[i][6]!='_'):\n",
    "                t[j].append(train[i][1])\n",
    "                l[j].append(train[i][6])\n",
    "                pos[j].append(train[i][3])\n",
    "                dep[j].append(train[i][7])\n",
    "    except:\n",
    "        t.append([])\n",
    "        l.append([])\n",
    "        pos.append([])\n",
    "        dep.append([])\n",
    "        j=j+1\n",
    "        pass"
   ]
  },
  {
   "cell_type": "code",
   "execution_count": 68,
   "metadata": {},
   "outputs": [],
   "source": [
    "X=[]\n",
    "Y=[]\n",
    "for i in range(len(l)):\n",
    "    stack=['#root#']\n",
    "    stahead=[-1]\n",
    "    buff=t[i]\n",
    "    buffhead=[]\n",
    "    for j in range(len(l[i])):\n",
    "        if l[i][j]>0:\n",
    "            #print j\n",
    "            buffhead.append(t[i][int(l[i][j])-1])\n",
    "        else:\n",
    "            buffhead.append('#root#')\n",
    "    buffPOS=pos[i]\n",
    "    buffDEP=dep[i]\n",
    "    staPOS=[]\n",
    "    staDEP=[]\n",
    "#    print i\n",
    "#    print buff\n",
    "#    print buffhead\n",
    "#    print stack\n",
    "#    print stahead\n",
    "    while len(buff)>0:\n",
    "        if checkra(stack,stahead,buff,buffhead)==1:\n",
    "            [stack,stahead,buff,buffhead,buffPOS,staPOS,buffDEP,staDEP]=op_ra(stack,stahead,buff,buffhead,buffPOS,staPOS,buffDEP,staDEP)\n",
    "            X.append(feature(stack,buff,staPOS,buffPOS,staDEP,buffDEP,dictPOS,dictDEP))\n",
    "            Y.append('ra')\n",
    "        elif checkla(stack,stahead,buff,buffhead)==1:\n",
    "            [stack,stahead,buff,buffhead,buffPOS,staPOS,buffDEP,staDEP]=op_la(stack,stahead,buff,buffhead,buffPOS,staPOS,buffDEP,staDEP)\n",
    "            X.append(feature(stack,buff,staPOS,buffPOS,staDEP,buffDEP,dictPOS,dictDEP))\n",
    "            Y.append('la')\n",
    "        else:\n",
    "            [stack,stahead,buff,buffhead,buffPOS,staPOS,buffDEP,staDEP]=op_shift(stack,stahead,buff,buffhead,buffPOS,staPOS,buffDEP,staDEP)\n",
    "            X.append(feature(stack,buff,staPOS,buffPOS,staDEP,buffDEP,dictPOS,dictDEP))\n",
    "            Y.append('shift')\n",
    "            "
   ]
  },
  {
   "cell_type": "code",
   "execution_count": 69,
   "metadata": {},
   "outputs": [],
   "source": [
    "Yt=np.array([[0]*3]*len(Y), np.dtype(float))\n",
    "for i in range(len(Y)):\n",
    "    if(Y[i]=='shift'):\n",
    "        Yt[i][0]=1\n",
    "    elif(Y[i]=='ra'):\n",
    "        Yt[i][1]=1\n",
    "    else:\n",
    "        Yt[i][2]=1"
   ]
  },
  {
   "cell_type": "code",
   "execution_count": 70,
   "metadata": {},
   "outputs": [
    {
     "data": {
      "text/plain": [
       "65997"
      ]
     },
     "execution_count": 70,
     "metadata": {},
     "output_type": "execute_result"
    }
   ],
   "source": [
    "len(X)"
   ]
  },
  {
   "cell_type": "code",
   "execution_count": null,
   "metadata": {},
   "outputs": [],
   "source": []
  },
  {
   "cell_type": "code",
   "execution_count": 71,
   "metadata": {},
   "outputs": [],
   "source": [
    "Xtrain=np.array([[0]*730]*50000, np.dtype(float))\n",
    "for i in range(50000):\n",
    "    Xtrain[i]=X[i]"
   ]
  },
  {
   "cell_type": "code",
   "execution_count": 72,
   "metadata": {},
   "outputs": [],
   "source": [
    "Xtest=np.array([[0]*730]*15997, np.dtype(float))\n",
    "for i in range(15997):\n",
    "    Xtest[i]=X[i+50000]"
   ]
  },
  {
   "cell_type": "code",
   "execution_count": 73,
   "metadata": {},
   "outputs": [],
   "source": [
    "Ytrain=np.array([[0]*3]*50000, np.dtype(float))\n",
    "for i in range(50000):\n",
    "    Ytrain[i]=Yt[i]\n",
    "Ytest=np.array([[0]*3]*15997, np.dtype(float))\n",
    "for i in range(15997):\n",
    "    Ytest[i]=Yt[i+50000]"
   ]
  },
  {
   "cell_type": "code",
   "execution_count": 74,
   "metadata": {},
   "outputs": [],
   "source": [
    "np.save('Xtrain',Xtrain)\n",
    "np.save('Ytrain',Ytrain)\n",
    "np.save('Xtest',Xtest)\n",
    "np.save('Ytest',Ytest)"
   ]
  },
  {
   "cell_type": "code",
   "execution_count": 76,
   "metadata": {},
   "outputs": [
    {
     "data": {
      "text/plain": [
       "array([0., 0., 0., ..., 0., 0., 0.])"
      ]
     },
     "execution_count": 76,
     "metadata": {},
     "output_type": "execute_result"
    }
   ],
   "source": [
    "Xtrain[:,0]"
   ]
  },
  {
   "cell_type": "code",
   "execution_count": null,
   "metadata": {},
   "outputs": [],
   "source": []
  }
 ],
 "metadata": {
  "kernelspec": {
   "display_name": "Python 2",
   "language": "python",
   "name": "python2"
  },
  "language_info": {
   "codemirror_mode": {
    "name": "ipython",
    "version": 2
   },
   "file_extension": ".py",
   "mimetype": "text/x-python",
   "name": "python",
   "nbconvert_exporter": "python",
   "pygments_lexer": "ipython2",
   "version": "2.7.14"
  }
 },
 "nbformat": 4,
 "nbformat_minor": 2
}
