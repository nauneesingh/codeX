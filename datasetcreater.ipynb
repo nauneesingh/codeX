{
 "cells": [
  {
   "cell_type": "code",
   "execution_count": 115,
   "metadata": {},
   "outputs": [],
   "source": [
    "from gensim.test.utils import datapath, get_tmpfile\n",
    "from gensim.models import KeyedVectors\n",
    "from gensim.scripts.glove2word2vec import glove2word2vec\n",
    "\n",
    "glove_file = datapath('/home/nikhil/Desktop/sem8/IP/main/data/glove/glove.6B.300d.txt')\n",
    "tmp_file = get_tmpfile(\"word2vec_300.txt\")\n",
    "glove2word2vec(glove_file, tmp_file)\n",
    "model = KeyedVectors.load_word2vec_format(tmp_file)"
   ]
  },
  {
   "cell_type": "code",
   "execution_count": 116,
   "metadata": {},
   "outputs": [],
   "source": [
    "import numpy as np\n",
    "def checkin(a,b):\n",
    "    for i in range(len(b)):\n",
    "        if b[i]==a:\n",
    "            return 1\n",
    "    return 0\n",
    "\n",
    "def checkchild(b,word):\n",
    "    for i in range(len(b)):\n",
    "        if b[i]==word:\n",
    "            return 1\n",
    "    return 0\n",
    "\n",
    "def checkra(s,shead,b,bhead):\n",
    "    if (len(s))==1:\n",
    "        return 0\n",
    "    #elif bhead[0]==0:\n",
    "    #    return 0\n",
    "    else:\n",
    "        if bhead[0]==s[-1]:\n",
    "            if checkin(bhead[0],b)==0:\n",
    "                return 1\n",
    "    return 0\n",
    "\n",
    "def checkla(s,shead,b,bhead):\n",
    "    if (len(s))==1:\n",
    "        return 0\n",
    "    #elif shead[-1]==:\n",
    "    #    return 0\n",
    "    else:\n",
    "        if shead[-1]==b[0]:\n",
    "            if checkchild(bhead,s[-1])==0:\n",
    "                return 1\n",
    "    return 0"
   ]
  },
  {
   "cell_type": "code",
   "execution_count": 117,
   "metadata": {},
   "outputs": [],
   "source": [
    "post=open('../data/vocabs.pos','r').read();\n",
    "post = post.split('\\n')\n",
    "for i in range(19):\n",
    "    post[i]=post[i].split(' ')\n",
    "    post[i]=post[i][0]\n",
    "dept=open('../data/vocabs.labels','r').read();\n",
    "dept = dept.split('\\n')\n",
    "for i in range(50):\n",
    "    dept[i]=dept[i].split(' ')\n",
    "    dept[i]=dept[i][0]\n",
    "    \n",
    "    \n",
    "def feature(s,b,pos,de,t,post,dept):\n",
    "    x1=np.array([[0]*300]*1, np.dtype(float))\n",
    "    try:\n",
    "        x1=x1+model[s[-1]]\n",
    "    except:\n",
    "        pass\n",
    "    x2=np.array([[0]*300]*1, np.dtype(float))\n",
    "    try:\n",
    "        x1=x1+model[b[0]]\n",
    "    except:\n",
    "        pass\n",
    "    x3=np.array([[0]*19]*1, np.dtype(float))\n",
    "    for i in range(len(t)):\n",
    "        if s[-1]==t[i]:\n",
    "            for j in range(19):\n",
    "                if pos[i]==post[j]:\n",
    "                    x3[0][j]=1;\n",
    "    x4=np.array([[0]*19]*1, np.dtype(float))\n",
    "    for i in range(len(t)):\n",
    "        if b[0]==t[i]:\n",
    "            for j in range(19):\n",
    "                if pos[i]==post[j]:\n",
    "                    x4[0][j]=1;\n",
    "    x5=np.array([[0]*50]*1, np.dtype(float))\n",
    "    for i in range(len(t)):\n",
    "        if s[-1]==t[i]:\n",
    "            for j in range(50):\n",
    "                if dep[i]==dept[j]:\n",
    "                    x5[0][j]=1;\n",
    "    x6=np.array([[0]*50]*1, np.dtype(float))\n",
    "    for i in range(len(t)):\n",
    "        if b[0]==t[i]:\n",
    "            for j in range(50):\n",
    "                if dep[i]==dept[j]:\n",
    "                    x6[0][j]=1;\n",
    "    x=np.concatenate((x1,x2,x3,x4,x5,x6),axis=1)\n",
    "    return x    \n",
    "    \n",
    "    \n",
    "def op_ra(s,sh,b,bh):\n",
    "    s.pop()\n",
    "    sh.pop()\n",
    "    return [s,sh,b,bh]\n",
    "def op_la(s,sh,b,bh):\n",
    "    b[0]=s.pop()\n",
    "    bh[0]=sh.pop()\n",
    "    return [s,sh,b,bh]\n",
    "def op_shift(s,sh,b,bh):\n",
    "    s.append(b[0])\n",
    "    sh.append(bh[0])\n",
    "    del(b[0])\n",
    "    del(bh[0])\n",
    "    return [s,sh,b,bh]"
   ]
  },
  {
   "cell_type": "code",
   "execution_count": 118,
   "metadata": {},
   "outputs": [],
   "source": [
    "train=open('train.conllu','r').read();\n",
    "train = train.split('\\n')"
   ]
  },
  {
   "cell_type": "code",
   "execution_count": 119,
   "metadata": {},
   "outputs": [],
   "source": [
    "t=[]\n",
    "l=[]\n",
    "t.append([])\n",
    "l.append([])\n",
    "pos=[]\n",
    "dep=[]\n",
    "pos.append([])\n",
    "dep.append([])\n",
    "j=0;\n",
    "for i in range(60000):\n",
    "    try:\n",
    "       \n",
    "        if train[i][0] != '#':\n",
    "            train[i]=train[i].split('\\t')\n",
    "            if(train[i][6]!='_'):\n",
    "                t[j].append(train[i][1])\n",
    "                l[j].append(train[i][6])\n",
    "                pos[j].append(train[i][3])\n",
    "                dep[j].append(train[i][7])\n",
    "       #     f.write(train[i]+'\\n')\n",
    "    except:\n",
    "   #     f.write('\\n')\n",
    "        t.append([])\n",
    "        l.append([])\n",
    "        pos.append([])\n",
    "        dep.append([])\n",
    "        j=j+1\n",
    "        pass\n",
    "#f.close()"
   ]
  },
  {
   "cell_type": "code",
   "execution_count": 120,
   "metadata": {},
   "outputs": [],
   "source": [
    "X=[]\n",
    "Y=[]\n",
    "for i in range(len(l)):\n",
    "    stack=['#root#']\n",
    "    stahead=[-1]\n",
    "    buff=t[i]\n",
    "    buffhead=[]\n",
    "    for j in range(len(l[i])):\n",
    "        if l[i][j]>0:\n",
    "            #print j\n",
    "            buffhead.append(t[i][int(l[i][j])-1])\n",
    "        else:\n",
    "            buffhead.append('#root#')\n",
    "    POS=pos[i]\n",
    "    de=dep[i]\n",
    "#    print i\n",
    "#    print buff\n",
    "#    print buffhead\n",
    "#    print stack\n",
    "#    print stahead\n",
    "    while len(buff)>0:\n",
    "        if checkra(stack,stahead,buff,buffhead)==1:\n",
    "            [stack,stahead,buff,buffhead]=op_ra(stack,stahead,buff,buffhead)\n",
    "            X.append(feature(stack,buff,POS,de,t[i],post,dept))\n",
    "            Y.append('ra')\n",
    "        elif checkla(stack,stahead,buff,buffhead)==1:\n",
    "            [stack,stahead,buff,buffhead]=op_la(stack,stahead,buff,buffhead)\n",
    "            X.append(feature(stack,buff,POS,de,t[i],post,dept))\n",
    "            Y.append('la')\n",
    "        else:\n",
    "            [stack,stahead,buff,buffhead]=op_shift(stack,stahead,buff,buffhead)\n",
    "            X.append(feature(stack,buff,POS,de,t[i],post,dept))\n",
    "            Y.append('shift')\n",
    "            "
   ]
  },
  {
   "cell_type": "code",
   "execution_count": 124,
   "metadata": {},
   "outputs": [
    {
     "name": "stdout",
     "output_type": "stream",
     "text": [
      "shift\n"
     ]
    }
   ],
   "source": [
    "print(Y[0])"
   ]
  },
  {
   "cell_type": "code",
   "execution_count": 125,
   "metadata": {},
   "outputs": [
    {
     "data": {
      "text/plain": [
       "66146"
      ]
     },
     "execution_count": 125,
     "metadata": {},
     "output_type": "execute_result"
    }
   ],
   "source": [
    "len(Y)"
   ]
  },
  {
   "cell_type": "code",
   "execution_count": 126,
   "metadata": {},
   "outputs": [],
   "source": [
    "Yt=np.array([[0]*3]*len(Y), np.dtype(float))\n",
    "for i in range(len(Y)):\n",
    "    if(Y[i]=='shift'):\n",
    "        Yt[i][0]=1\n",
    "    elif(Y[i]=='ra'):\n",
    "        Yt[i][1]=1\n",
    "    else:\n",
    "        Yt[i][2]=1"
   ]
  },
  {
   "cell_type": "code",
   "execution_count": 131,
   "metadata": {},
   "outputs": [
    {
     "data": {
      "text/plain": [
       "(66146, 1, 738)"
      ]
     },
     "execution_count": 131,
     "metadata": {},
     "output_type": "execute_result"
    }
   ],
   "source": [
    "np.shape(X)"
   ]
  },
  {
   "cell_type": "code",
   "execution_count": 132,
   "metadata": {},
   "outputs": [],
   "source": [
    "Xtrain=np.array([[0]*738]*50000, np.dtype(float))\n",
    "for i in range(50000):\n",
    "    Xtrain[i]=X[i]"
   ]
  },
  {
   "cell_type": "code",
   "execution_count": 133,
   "metadata": {},
   "outputs": [
    {
     "data": {
      "text/plain": [
       "(50000, 738)"
      ]
     },
     "execution_count": 133,
     "metadata": {},
     "output_type": "execute_result"
    }
   ],
   "source": [
    "np.shape(Xtrain)"
   ]
  },
  {
   "cell_type": "code",
   "execution_count": 134,
   "metadata": {},
   "outputs": [
    {
     "data": {
      "text/plain": [
       "array([[ 0.040598, -0.028364,  0.25009 , ...,  0.      ,  0.      ,\n",
       "         0.      ],\n",
       "       [ 0.040598, -0.028364,  0.25009 , ...,  0.      ,  0.      ,\n",
       "         0.      ],\n",
       "       [ 0.040598, -0.028364,  0.25009 , ...,  0.      ,  0.      ,\n",
       "         0.      ],\n",
       "       ...,\n",
       "       [-0.29712 ,  0.094049, -0.096662, ...,  0.      ,  0.      ,\n",
       "         0.      ],\n",
       "       [-0.52607 ,  0.059265, -0.223952, ...,  0.      ,  0.      ,\n",
       "         0.      ],\n",
       "       [-0.29712 ,  0.094049, -0.096662, ...,  0.      ,  0.      ,\n",
       "         0.      ]])"
      ]
     },
     "execution_count": 134,
     "metadata": {},
     "output_type": "execute_result"
    }
   ],
   "source": [
    "Xtrain"
   ]
  },
  {
   "cell_type": "code",
   "execution_count": null,
   "metadata": {},
   "outputs": [],
   "source": []
  }
 ],
 "metadata": {
  "kernelspec": {
   "display_name": "Python 2",
   "language": "python",
   "name": "python2"
  },
  "language_info": {
   "codemirror_mode": {
    "name": "ipython",
    "version": 2
   },
   "file_extension": ".py",
   "mimetype": "text/x-python",
   "name": "python",
   "nbconvert_exporter": "python",
   "pygments_lexer": "ipython2",
   "version": "2.7.14"
  }
 },
 "nbformat": 4,
 "nbformat_minor": 2
}
